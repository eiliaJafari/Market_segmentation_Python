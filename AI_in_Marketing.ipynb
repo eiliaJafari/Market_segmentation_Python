{
 "cells": [
  {
   "cell_type": "markdown",
   "metadata": {
    "id": "NlHScp5mG2Ze"
   },
   "source": [
    "# #1: UNDERSTAND THE PROBLEM STATEMENT AND BUSINESS CASE"
   ]
  },
  {
   "cell_type": "markdown",
   "metadata": {
    "id": "KWTuGIYAHN1w"
   },
   "source": [
    "Data Source : https://www.kaggle.com/kyanyoga/sample-sales-data"
   ]
  },
  {
   "cell_type": "markdown",
   "metadata": {
    "id": "kat-cmBJHTYF"
   },
   "source": [
    "# #2: IMPORT LIBRARIES AND DATASETS"
   ]
  },
  {
   "cell_type": "code",
   "execution_count": null,
   "metadata": {
    "colab": {
     "base_uri": "https://localhost:8080/",
     "height": 72
    },
    "id": "P5CuiQvuHM0q",
    "outputId": "4bd3e561-a6da-4bbb-cf52-0c33cf86bd38"
   },
   "outputs": [],
   "source": [
    "import pandas as pd\n",
    "import numpy as np\n",
    "import seaborn as sns\n",
    "import matplotlib.pyplot as plt\n",
    "import zipfile\n",
    "import cv2\n",
    "import plotly.express as px\n",
    "import tensorflow as tf\n",
    "from tensorflow.python.keras import Sequential\n",
    "from tensorflow.keras import layers, optimizers\n",
    "from tensorflow.keras.applications.resnet50 import ResNet50\n",
    "from tensorflow.keras.layers import Input, Add, Dense, Activation, ZeroPadding2D, BatchNormalization, Flatten, Conv2D, AveragePooling2D, MaxPooling2D, Dropout\n",
    "from tensorflow.keras.models import Model, load_model\n",
    "from tensorflow.keras.initializers import glorot_uniform\n",
    "from tensorflow.keras.utils import plot_model\n",
    "from tensorflow.keras.callbacks import ReduceLROnPlateau, EarlyStopping, ModelCheckpoint, LearningRateScheduler\n",
    "from IPython.display import display\n",
    "from tensorflow.keras import backend as K\n",
    "from sklearn.preprocessing import StandardScaler, normalize\n",
    "from sklearn.cluster import KMeans\n",
    "from sklearn.decomposition import PCA\n",
    "from sklearn.metrics import silhouette_score\n",
    "from sklearn.manifold import TSNE\n",
    "from sklearn.metrics.pairwise import cosine_similarity\n",
    "import plotly.express as px\n",
    "import plotly.graph_objects as go\n",
    "\n",
    "from google.colab import files #library to upload files to colab notebook\n",
    "%matplotlib inline"
   ]
  },
  {
   "cell_type": "code",
   "execution_count": null,
   "metadata": {
    "colab": {
     "base_uri": "https://localhost:8080/",
     "height": 35
    },
    "id": "1ZVLDgRNHb0T",
    "outputId": "dc30a45c-b9c5-4a66-c8b5-6a31d9c0322e"
   },
   "outputs": [],
   "source": [
    "# Mount the drive\n",
    "from google.colab import drive\n",
    "drive.mount('/content/drive')"
   ]
  },
  {
   "cell_type": "code",
   "execution_count": null,
   "metadata": {
    "id": "E5m114pqHYt3"
   },
   "outputs": [],
   "source": [
    "sales_df = pd.read_csv('/content/drive/My Drive/Colab Notebooks/sales_data_sample.csv', encoding = 'unicode_escape')\n",
    "# Note: MSRP is the manufacturer's suggested retail price (MSRP) or sticker price represents the suggested retail price of products. \n",
    "# MSRP is used to standardize the price of products over multiple company store locations."
   ]
  },
  {
   "cell_type": "code",
   "execution_count": null,
   "metadata": {
    "colab": {
     "base_uri": "https://localhost:8080/",
     "height": 661
    },
    "id": "PEhlynhWH92R",
    "outputId": "0a8f719f-01bc-49a7-fef1-19da403f5dea"
   },
   "outputs": [],
   "source": [
    "sales_df"
   ]
  },
  {
   "cell_type": "code",
   "execution_count": null,
   "metadata": {
    "colab": {
     "base_uri": "https://localhost:8080/",
     "height": 468
    },
    "id": "aqbEC-_wH-3w",
    "outputId": "ba43b95b-db48-4d8e-d089-fcd40c6abb96"
   },
   "outputs": [],
   "source": [
    "# Let's view the types of data\n",
    "sales_df.dtypes"
   ]
  },
  {
   "cell_type": "code",
   "execution_count": null,
   "metadata": {
    "colab": {
     "base_uri": "https://localhost:8080/",
     "height": 468
    },
    "id": "3OqZHku_kte7",
    "outputId": "db8f3536-38e4-430f-c09c-dc3e4c2f8ab6"
   },
   "outputs": [],
   "source": [
    "# Convert order date to datetime format\n",
    "sales_df['ORDERDATE'] = pd.to_datetime(sales_df['ORDERDATE'])\n",
    "# Check the type of data\n",
    "sales_df.dtypes"
   ]
  },
  {
   "cell_type": "code",
   "execution_count": null,
   "metadata": {
    "colab": {
     "base_uri": "https://localhost:8080/",
     "height": 1000
    },
    "id": "jeWktbLylF9S",
    "outputId": "bf4e5c99-f6f3-415c-d4e5-e50add3389c2"
   },
   "outputs": [],
   "source": [
    "# Check the number of non-null values in the dataframe\n",
    "sales_df.info()\n",
    "\n",
    "# Check the number of Null values in the data\n",
    "sales_df.isnull().sum()"
   ]
  },
  {
   "cell_type": "code",
   "execution_count": null,
   "metadata": {
    "colab": {
     "base_uri": "https://localhost:8080/",
     "height": 309
    },
    "id": "IF8wia7QlSYA",
    "outputId": "a56bd96c-d5e2-471c-bcf0-86af3fc76a73"
   },
   "outputs": [],
   "source": [
    "# since there are lot of Null values in 'addressline2', 'state', 'postal code' and 'territory' we can drop them. \n",
    "# Country would represent the order grographical information.\n",
    "# Also we can drop city, address1, phone number, contact_name, contact last_name and contact first_name since they are not required for the analysis\n",
    "\n",
    "df_drop  = ['ADDRESSLINE1', 'ADDRESSLINE2', 'POSTALCODE', 'CITY', 'TERRITORY', 'PHONE', 'STATE', 'CONTACTFIRSTNAME', 'CONTACTLASTNAME', 'CUSTOMERNAME', 'ORDERNUMBER']\n",
    "sales_df = sales_df.drop(df_drop, axis = 1)\n",
    "sales_df.head()"
   ]
  },
  {
   "cell_type": "code",
   "execution_count": null,
   "metadata": {
    "colab": {
     "base_uri": "https://localhost:8080/",
     "height": 277
    },
    "id": "t5dIoUr2lmVW",
    "outputId": "a5d22429-2357-4ef0-dec7-eba80b885968"
   },
   "outputs": [],
   "source": [
    "sales_df.isnull().sum()"
   ]
  },
  {
   "cell_type": "code",
   "execution_count": null,
   "metadata": {
    "colab": {
     "base_uri": "https://localhost:8080/",
     "height": 277
    },
    "id": "Cj3Zofi_luXO",
    "outputId": "ff0b80b4-09b8-4a66-83f2-7d8fabb0757b"
   },
   "outputs": [],
   "source": [
    "# Obtain the number of unique values in each column\n",
    "sales_df.nunique()"
   ]
  },
  {
   "cell_type": "markdown",
   "metadata": {
    "id": "1BbvXBiQncu1"
   },
   "source": [
    "# #3: PERFORM EXPLORATORY DATA ANALYSIS AND DATA CLEANING"
   ]
  },
  {
   "cell_type": "code",
   "execution_count": null,
   "metadata": {
    "colab": {
     "base_uri": "https://localhost:8080/",
     "height": 87
    },
    "id": "zuNZ7DVddv7V",
    "outputId": "8e3b4c82-0814-4731-c8b2-b5d2a36e15f1"
   },
   "outputs": [],
   "source": [
    "sales_df['COUNTRY'].value_counts().index"
   ]
  },
  {
   "cell_type": "code",
   "execution_count": null,
   "metadata": {
    "colab": {
     "base_uri": "https://localhost:8080/",
     "height": 364
    },
    "id": "3vH4KsjQdy-C",
    "outputId": "d9e77b36-4985-4662-f166-4b7dd5f47ca5"
   },
   "outputs": [],
   "source": [
    "sales_df['COUNTRY'].value_counts()"
   ]
  },
  {
   "cell_type": "code",
   "execution_count": null,
   "metadata": {
    "id": "Tt_hZ-Pgnsjx"
   },
   "outputs": [],
   "source": [
    "# Function to visulize the count of items in a given column\n",
    "# Note that Plotly is a Python graphing library that makes interactive, publication-quality graphs. \n",
    "# Check it out: https://plotly.com/python/\n",
    "# Note: px (plotly_express) is a high-level wrapper around plotly for rapid data exploration and figure generation\n",
    "# Check this out: https://plotly.github.io/plotly_express\n",
    "\n",
    "def barplot_visualization(x):\n",
    "  fig = plt.Figure(figsize = (12, 6))\n",
    "  fig = px.bar(x = sales_df[x].value_counts().index, y = sales_df[x].value_counts(), color = sales_df[x].value_counts().index, height = 600)\n",
    "  fig.show()"
   ]
  },
  {
   "cell_type": "code",
   "execution_count": null,
   "metadata": {
    "colab": {
     "base_uri": "https://localhost:8080/",
     "height": 617
    },
    "id": "bmjufUVaoMtc",
    "outputId": "be66fcc5-17aa-4207-e8db-34a019426733"
   },
   "outputs": [],
   "source": [
    "# Let's call this function for any given column such as 'COUNTRY'\n",
    "barplot_visualization('COUNTRY')"
   ]
  },
  {
   "cell_type": "code",
   "execution_count": null,
   "metadata": {
    "colab": {
     "base_uri": "https://localhost:8080/",
     "height": 617
    },
    "id": "vnUXOtRVpOPZ",
    "outputId": "59c119e1-9ddf-4712-b65e-2b25d044880b"
   },
   "outputs": [],
   "source": [
    "barplot_visualization('STATUS')"
   ]
  },
  {
   "cell_type": "code",
   "execution_count": null,
   "metadata": {
    "colab": {
     "base_uri": "https://localhost:8080/",
     "height": 415
    },
    "id": "m2QlfYaRwuQi",
    "outputId": "6d46e1df-1430-41f0-a1d9-dff1651a0ca6"
   },
   "outputs": [],
   "source": [
    "sales_df.drop(columns= ['STATUS'], inplace = True)\n",
    "sales_df"
   ]
  },
  {
   "cell_type": "code",
   "execution_count": null,
   "metadata": {
    "colab": {
     "base_uri": "https://localhost:8080/",
     "height": 617
    },
    "id": "kTD5z4jYpppe",
    "outputId": "9e68ee98-d014-486c-c6aa-b3ea70f6aa88"
   },
   "outputs": [],
   "source": [
    "barplot_visualization('PRODUCTLINE')"
   ]
  },
  {
   "cell_type": "code",
   "execution_count": null,
   "metadata": {
    "colab": {
     "base_uri": "https://localhost:8080/",
     "height": 617
    },
    "id": "-QddXcZ1qFSi",
    "outputId": "332cb9f2-f48e-40e7-fd06-fc8f56ab73fa"
   },
   "outputs": [],
   "source": [
    "barplot_visualization('DEALSIZE')"
   ]
  },
  {
   "cell_type": "code",
   "execution_count": null,
   "metadata": {
    "id": "W38KhIpZnf-q"
   },
   "outputs": [],
   "source": [
    "# Function to add dummy variables to replace categorical variables\n",
    "\n",
    "def dummies(x):\n",
    "  dummy = pd.get_dummies(sales_df[x])\n",
    "  sales_df.drop(columns = x , inplace = True)\n",
    "  return pd.concat([sales_df, dummy], axis = 1)"
   ]
  },
  {
   "cell_type": "code",
   "execution_count": null,
   "metadata": {
    "colab": {
     "base_uri": "https://localhost:8080/",
     "height": 609
    },
    "id": "PGwtItsUosYA",
    "outputId": "7beef4bd-a832-45b0-c98c-a83881d75308"
   },
   "outputs": [],
   "source": [
    "# Let's obtain dummy variables for the column 'COUNTRY'\n",
    "sales_df = dummies('COUNTRY')\n",
    "sales_df"
   ]
  },
  {
   "cell_type": "code",
   "execution_count": null,
   "metadata": {
    "id": "fWr0Yqit1lnZ"
   },
   "outputs": [],
   "source": [
    "sales_df = dummies('PRODUCTLINE')"
   ]
  },
  {
   "cell_type": "code",
   "execution_count": null,
   "metadata": {
    "colab": {
     "base_uri": "https://localhost:8080/",
     "height": 643
    },
    "id": "eshNTjlj0NWo",
    "outputId": "dcb372e3-1450-42bb-b395-e1824e421748"
   },
   "outputs": [],
   "source": [
    "sales_df"
   ]
  },
  {
   "cell_type": "code",
   "execution_count": null,
   "metadata": {
    "colab": {
     "base_uri": "https://localhost:8080/",
     "height": 643
    },
    "id": "D5AcDQcyx9-l",
    "outputId": "de3fe2ee-dc60-4292-a8b3-66633c0fd2a4"
   },
   "outputs": [],
   "source": [
    "sales_df = dummies('DEALSIZE')\n",
    "sales_df"
   ]
  },
  {
   "cell_type": "code",
   "execution_count": null,
   "metadata": {
    "colab": {
     "base_uri": "https://localhost:8080/",
     "height": 87
    },
    "id": "-Olt8VjKqz72",
    "outputId": "d8517b89-3115-4750-d5db-da45cad8c122"
   },
   "outputs": [],
   "source": [
    "y = pd.Categorical(sales_df['PRODUCTCODE'])\n",
    "y"
   ]
  },
  {
   "cell_type": "code",
   "execution_count": null,
   "metadata": {
    "colab": {
     "base_uri": "https://localhost:8080/",
     "height": 35
    },
    "id": "V6t7uGpBhEZl",
    "outputId": "6c021be1-7c0e-4660-9f03-3d980cc49202"
   },
   "outputs": [],
   "source": [
    "y = pd.Categorical(sales_df['PRODUCTCODE']).codes\n",
    "y"
   ]
  },
  {
   "cell_type": "code",
   "execution_count": null,
   "metadata": {
    "id": "bNrrh1Cdotzr"
   },
   "outputs": [],
   "source": [
    "# Since the number unique product code is 109, if we add one-hot variables, there \n",
    "# would be additional 109 columns, we can avoid that by using categorical encoding\n",
    "# This is not the optimal way of dealing with it but it's important to avoid curse of dimensionality\n",
    "sales_df['PRODUCTCODE'] = pd.Categorical(sales_df['PRODUCTCODE']).codes"
   ]
  },
  {
   "cell_type": "code",
   "execution_count": null,
   "metadata": {
    "colab": {
     "base_uri": "https://localhost:8080/",
     "height": 643
    },
    "id": "F70oMHcgqm-G",
    "outputId": "57f644a8-fd9f-45df-c840-1fc6a06669b3"
   },
   "outputs": [],
   "source": [
    "sales_df"
   ]
  },
  {
   "cell_type": "code",
   "execution_count": null,
   "metadata": {
    "colab": {
     "base_uri": "https://localhost:8080/",
     "height": 674
    },
    "id": "LvE4ESaZixPy",
    "outputId": "5200eccb-d05b-4471-f190-3f0a9267d992"
   },
   "outputs": [],
   "source": [
    "# Group data by order date\n",
    "sales_df_group = sales_df.groupby(by = \"ORDERDATE\").sum()\n",
    "sales_df_group"
   ]
  },
  {
   "cell_type": "code",
   "execution_count": null,
   "metadata": {
    "colab": {
     "base_uri": "https://localhost:8080/",
     "height": 542
    },
    "id": "D1ZUs7QLiyT9",
    "outputId": "3d8364e9-a06f-4596-e3df-963307f6cc43"
   },
   "outputs": [],
   "source": [
    "fig = px.line(x = sales_df_group.index, y = sales_df_group.SALES, title = 'Sales')\n",
    "fig.show()"
   ]
  },
  {
   "cell_type": "code",
   "execution_count": null,
   "metadata": {
    "colab": {
     "base_uri": "https://localhost:8080/",
     "height": 35
    },
    "id": "_-sLgCWI6hta",
    "outputId": "4f2d6118-be56-40c8-ac02-986cd16befc9"
   },
   "outputs": [],
   "source": [
    "# We can drop 'ORDERDATE' and keep the rest of the date-related data such as 'MONTH'\n",
    "sales_df.drop(\"ORDERDATE\", axis = 1, inplace = True)\n",
    "sales_df.shape"
   ]
  },
  {
   "cell_type": "code",
   "execution_count": null,
   "metadata": {
    "colab": {
     "base_uri": "https://localhost:8080/",
     "height": 1000
    },
    "id": "LnYHjwcq2IgG",
    "outputId": "9e2da4b7-da5c-44ae-8628-dbe9d3709433"
   },
   "outputs": [],
   "source": [
    "plt.figure(figsize = (20, 20))\n",
    "corr_matrix = sales_df.iloc[:, :10].corr()\n",
    "sns.heatmap(corr_matrix, annot = True, cbar = False)"
   ]
  },
  {
   "cell_type": "code",
   "execution_count": null,
   "metadata": {
    "colab": {
     "base_uri": "https://localhost:8080/",
     "height": 35
    },
    "id": "T1iBuvxt2LVU",
    "outputId": "b015603c-f530-44cf-cc24-4b8f91543cde"
   },
   "outputs": [],
   "source": [
    "# It looks like the Quarter ID and the monthly IDs are highly correlated\n",
    "# Let's drop 'QTR_ID' (or 'MONTH_ID') \n",
    "sales_df.drop(\"QTR_ID\", axis = 1, inplace = True)\n",
    "sales_df.shape"
   ]
  },
  {
   "cell_type": "code",
   "execution_count": null,
   "metadata": {
    "colab": {
     "base_uri": "https://localhost:8080/",
     "height": 1000
    },
    "id": "YpVz8iiD7ZKB",
    "outputId": "01cf78f1-0325-4562-8298-956463fed727"
   },
   "outputs": [],
   "source": [
    "# Let's plot distplots\n",
    "# Distplot shows the (1) histogram, (2) kde plot and (3) rug plot.\n",
    "# (1) Histogram: it's a graphical display of data using bars with various heights. Each bar groups numbers into ranges and taller bars show that more data falls in that range.\n",
    "# (2) Kde Plot: Kernel Density Estimate is used for visualizing the Probability Density of a continuous variable.\n",
    "# (3) Rug plot: plot of data for a single quantitative variable, displayed as marks along an axis (one-dimensional scatter plot). \n",
    "\n",
    "import plotly.figure_factory as ff\n",
    "\n",
    "plt.figure(figsize = (10, 10))\n",
    "\n",
    "for i in range(8):\n",
    "  if sales_df.columns[i] != 'ORDERLINENUMBER':\n",
    "    fig = ff.create_distplot([sales_df[sales_df.columns[i]].apply(lambda x: float(x))], ['distplot'])\n",
    "    fig.update_layout(title_text = sales_df.columns[i])\n",
    "    fig.show()\n"
   ]
  },
  {
   "cell_type": "code",
   "execution_count": null,
   "metadata": {
    "colab": {
     "base_uri": "https://localhost:8080/",
     "height": 1000
    },
    "id": "pUHlw-tn7n6d",
    "outputId": "d3a967c7-1a62-48fc-8184-5d203d394ea0"
   },
   "outputs": [],
   "source": [
    "# Visualize the relationship between variables using pairplots\n",
    "plt.figure(figsize = (15, 15))\n",
    "\n",
    "fig = px.scatter_matrix(sales_df,\n",
    "    dimensions = sales_df.columns[:8], color = 'MONTH_ID')\n",
    "\n",
    "fig.update_layout(\n",
    "    title = 'Sales Data',\n",
    "    width = 1100,\n",
    "    height = 1100,\n",
    ")\n",
    "fig.show()\n",
    "\n",
    "# A trend exists between 'SALES' and 'QUANTITYORDERED'  \n",
    "# A trend exists between 'MSRP' and 'PRICEEACH'  \n",
    "# A trend exists between 'PRICEEACH' and 'SALES'\n",
    "# It seems that sales growth exists as we move from 2013 to 2014 to 2015 ('SALES' vs. 'YEAR_ID')\n",
    "# zoom in into 'SALES' and 'QUANTITYORDERED', you will be able to see the monthly information color coded on the graph\n"
   ]
  },
  {
   "cell_type": "markdown",
   "metadata": {
    "id": "QrbK9FWzCMzB"
   },
   "source": [
    "# #5: FIND THE OPTIMAL NUMBER OF CLUSTERS USING ELBOW METHOD"
   ]
  },
  {
   "cell_type": "markdown",
   "metadata": {
    "id": "qxqaYVFsCT0p"
   },
   "source": [
    "- The elbow method is a heuristic method of interpretation and validation of consistency within cluster analysis designed to help find the appropriate number of clusters in a dataset. \n",
    "- If the line chart looks like an arm, then the \"elbow\" on the arm is the value of k that is the best.\n",
    "- Source: \n",
    "  - https://en.wikipedia.org/wiki/Elbow_method_(clustering)\n",
    "  - https://www.geeksforgeeks.org/elbow-method-for-optimal-value-of-k-in-kmeans/"
   ]
  },
  {
   "cell_type": "code",
   "execution_count": null,
   "metadata": {
    "id": "AndFyX1hCSet"
   },
   "outputs": [],
   "source": [
    "# Scale the data\n",
    "scaler = StandardScaler()\n",
    "sales_df_scaled = scaler.fit_transform(sales_df)"
   ]
  },
  {
   "cell_type": "code",
   "execution_count": null,
   "metadata": {
    "colab": {
     "base_uri": "https://localhost:8080/",
     "height": 35
    },
    "id": "CqRTQ9SQCYx7",
    "outputId": "17336eb4-7ad6-4630-8e7e-807d7488b796"
   },
   "outputs": [],
   "source": [
    "sales_df_scaled.shape"
   ]
  },
  {
   "cell_type": "code",
   "execution_count": null,
   "metadata": {
    "colab": {
     "base_uri": "https://localhost:8080/",
     "height": 295
    },
    "id": "8THwglMLCZjb",
    "outputId": "90e1194d-068e-43bd-d758-2b9887ea3b27"
   },
   "outputs": [],
   "source": [
    "scores = []\n",
    "\n",
    "range_values = range(1, 15)\n",
    "\n",
    "for i in range_values:\n",
    "  kmeans = KMeans(n_clusters = i)\n",
    "  kmeans.fit(sales_df_scaled)\n",
    "  scores.append(kmeans.inertia_) # intertia is the Sum of squared distances of samples to their closest cluster center\n",
    "\n",
    "plt.plot(scores, 'bx-')\n",
    "plt.title('Finding right number of clusters')\n",
    "plt.xlabel('Clusters')\n",
    "plt.ylabel('scores') \n",
    "plt.show()\n",
    "\n",
    "# Kmeans details in Sklearn: https://scikit-learn.org/stable/modules/generated/sklearn.cluster.KMeans.html\n",
    "# From this we can observe that, 5th cluster seems to be forming the elbow of the curve.\n",
    "# Note that curve will change everytime we run the cell"
   ]
  },
  {
   "cell_type": "markdown",
   "metadata": {
    "id": "d3ZdWfkMCima"
   },
   "source": [
    "# #6: APPLY K-MEANS METHOD"
   ]
  },
  {
   "cell_type": "code",
   "execution_count": null,
   "metadata": {
    "id": "XOGuIZu9CZmS"
   },
   "outputs": [],
   "source": [
    "# Cluster the data using k-means\n",
    "kmeans = KMeans(5)\n",
    "kmeans.fit(sales_df_scaled)\n",
    "labels = kmeans.labels_\n"
   ]
  },
  {
   "cell_type": "code",
   "execution_count": null,
   "metadata": {
    "colab": {
     "base_uri": "https://localhost:8080/",
     "height": 35
    },
    "id": "a3Tf4YDPDmtu",
    "outputId": "280d6c0b-5a32-4d0c-acb5-4ae13c6fc47b"
   },
   "outputs": [],
   "source": [
    "labels"
   ]
  },
  {
   "cell_type": "code",
   "execution_count": null,
   "metadata": {
    "colab": {
     "base_uri": "https://localhost:8080/",
     "height": 35
    },
    "id": "lZcCzsRdDp-d",
    "outputId": "aa1b976e-ab20-4f81-9194-d25de4c29833"
   },
   "outputs": [],
   "source": [
    "kmeans.cluster_centers_.shape"
   ]
  },
  {
   "cell_type": "code",
   "execution_count": null,
   "metadata": {
    "colab": {
     "base_uri": "https://localhost:8080/",
     "height": 257
    },
    "id": "f4BkIfLfEzo1",
    "outputId": "a05af681-2325-4453-af0d-c03c67263f9b"
   },
   "outputs": [],
   "source": [
    "# Let's take a look at the cluster centers \n",
    "cluster_centers = pd.DataFrame(data = kmeans.cluster_centers_, columns = [sales_df.columns])\n",
    "cluster_centers "
   ]
  },
  {
   "cell_type": "code",
   "execution_count": null,
   "metadata": {
    "colab": {
     "base_uri": "https://localhost:8080/",
     "height": 326
    },
    "id": "R05gZGglF0Yx",
    "outputId": "37d90fee-ccc5-45d0-8e83-07f9419308b7"
   },
   "outputs": [],
   "source": [
    "# In order to understand what these numbers mean, let's perform inverse transformation\n",
    "cluster_centers = scaler.inverse_transform(cluster_centers)\n",
    "cluster_centers = pd.DataFrame(data = cluster_centers, columns = [sales_df.columns])\n",
    "cluster_centers\n",
    "\n",
    "# Cluster 0 (Highest) - This group represents customers who buy items in high quantity centered around ~47, they buy items in all price range leaning towards high price items of ~99. They also correspond to the highest total sales around ~8296 and they are active throughout the year. They are the highest buyers of products with high MSRP ~158.\n",
    "# Cluster 1 - This group represents customers who buy items in varying quantity ~35, they tend to buy high price items ~96. Their sales is bit better average ~4435, they buy products with second highest MSRP of ~133.\n",
    "# Cluster 2 (lowest) - This group represents customers who buy items in low quantity ~30. They tend to buy low price items ~68. Their sales ~2044 is lower than other clusters and they are extremely active around holiday season. They buy products with low MSRP ~75.\n",
    "# Cluster 3 - This group represents customers who are only active during the holidays. they buy in lower quantity ~35, but they tend to buy average price items around ~86. They also correspond to lower total sales around ~3673, they tend to buy items with MSRP around 102.\n",
    "# Cluster 4 - This group represents customers who buy items in varying quantity ~39, they tend to buy average price items ~94. Their sales ~4280."
   ]
  },
  {
   "cell_type": "code",
   "execution_count": null,
   "metadata": {
    "colab": {
     "base_uri": "https://localhost:8080/",
     "height": 35
    },
    "id": "LBQlxRqtGGzZ",
    "outputId": "4629d422-aa1d-4a4f-c9e2-4403cb77acbc"
   },
   "outputs": [],
   "source": [
    "labels.shape # Labels associated to each data pointa"
   ]
  },
  {
   "cell_type": "code",
   "execution_count": null,
   "metadata": {
    "colab": {
     "base_uri": "https://localhost:8080/",
     "height": 35
    },
    "id": "rOtFdNODGIS-",
    "outputId": "dc42509d-c839-4266-b408-09a41b3961ee"
   },
   "outputs": [],
   "source": [
    "labels.max()"
   ]
  },
  {
   "cell_type": "code",
   "execution_count": null,
   "metadata": {
    "colab": {
     "base_uri": "https://localhost:8080/",
     "height": 35
    },
    "id": "6hH8HwBSGIXl",
    "outputId": "cab84275-0bf1-4e68-da39-9a9269a2c68a"
   },
   "outputs": [],
   "source": [
    "labels.min()"
   ]
  },
  {
   "cell_type": "code",
   "execution_count": null,
   "metadata": {
    "colab": {
     "base_uri": "https://localhost:8080/",
     "height": 35
    },
    "id": "S9K8MOPxGIV2",
    "outputId": "c6389f61-0cf7-457a-8d42-b7ec5d377777"
   },
   "outputs": [],
   "source": [
    "y_kmeans = kmeans.fit_predict(sales_df_scaled)\n",
    "y_kmeans\n"
   ]
  },
  {
   "cell_type": "code",
   "execution_count": null,
   "metadata": {
    "colab": {
     "base_uri": "https://localhost:8080/",
     "height": 35
    },
    "id": "2-z38LTkxhGg",
    "outputId": "86ee38c3-7296-4572-9f68-b640326addf5"
   },
   "outputs": [],
   "source": [
    "y_kmeans.shape"
   ]
  },
  {
   "cell_type": "code",
   "execution_count": null,
   "metadata": {
    "colab": {
     "base_uri": "https://localhost:8080/",
     "height": 470
    },
    "id": "ac4WSW4fDIa3",
    "outputId": "ec11ae74-dab9-4053-aa64-245efa9ed5bd"
   },
   "outputs": [],
   "source": [
    "# Add a label (which cluster) corresponding to each data point\n",
    "sale_df_cluster = pd.concat([sales_df, pd.DataFrame({'cluster':labels})], axis = 1)\n",
    "sale_df_cluster"
   ]
  },
  {
   "cell_type": "code",
   "execution_count": null,
   "metadata": {
    "id": "QRUmjk_ADIr-"
   },
   "outputs": [],
   "source": [
    "sales_df['ORDERLINENUMBER'] = sales_df['ORDERLINENUMBER'].apply(lambda x: float(x))"
   ]
  },
  {
   "cell_type": "code",
   "execution_count": null,
   "metadata": {
    "colab": {
     "base_uri": "https://localhost:8080/",
     "height": 1000
    },
    "id": "O3GCRN77DIul",
    "outputId": "2bbfba6b-8890-4bdd-dcf3-f29276bab37f"
   },
   "outputs": [],
   "source": [
    "# plot histogram for each feature based on cluster \n",
    "for i in sales_df.columns[:8]:\n",
    "  plt.figure(figsize = (30, 6))\n",
    "  for j in range(5):\n",
    "    plt.subplot(1, 5, j+1)\n",
    "    cluster = sale_df_cluster[sale_df_cluster['cluster'] == j]\n",
    "    cluster[i].hist()\n",
    "    plt.title('{}    \\nCluster - {} '.format(i,j))\n",
    "  \n",
    "  plt.show()\n"
   ]
  },
  {
   "cell_type": "markdown",
   "metadata": {
    "id": "7VAlh_nWGfeh"
   },
   "source": [
    "# #7: APPLY PRINCIPAL COMPONENT ANALYSIS AND VISUALIZE THE RESULTS"
   ]
  },
  {
   "cell_type": "code",
   "execution_count": null,
   "metadata": {
    "colab": {
     "base_uri": "https://localhost:8080/",
     "height": 139
    },
    "id": "cNwNJ5ntGfDD",
    "outputId": "9db70a9d-e181-4b32-c908-6c8cde0fcedd"
   },
   "outputs": [],
   "source": [
    "# Reduce the original data to 3 dimensions using PCA for visualizig the clusters\n",
    "pca = PCA(n_components = 3)\n",
    "principal_comp = pca.fit_transform(sales_df_scaled)\n",
    "principal_comp"
   ]
  },
  {
   "cell_type": "code",
   "execution_count": null,
   "metadata": {
    "colab": {
     "base_uri": "https://localhost:8080/",
     "height": 202
    },
    "id": "DP39PNOBG8Ds",
    "outputId": "41d54106-0515-4dde-bef9-f88a900712f4"
   },
   "outputs": [],
   "source": [
    "pca_df = pd.DataFrame(data = principal_comp, columns = ['pca1', 'pca2', 'pca2'])\n",
    "pca_df.head()"
   ]
  },
  {
   "cell_type": "code",
   "execution_count": null,
   "metadata": {
    "colab": {
     "base_uri": "https://localhost:8080/",
     "height": 415
    },
    "id": "VhPUtacYDIzv",
    "outputId": "e77dd43f-9e85-43c6-f1df-080a030f3621"
   },
   "outputs": [],
   "source": [
    "# Concatenate the clusters labels to the dataframe\n",
    "pca_df = pd.concat([pca_df, pd.DataFrame({'cluster':labels})], axis = 1)\n",
    "pca_df"
   ]
  },
  {
   "cell_type": "code",
   "execution_count": null,
   "metadata": {
    "colab": {
     "base_uri": "https://localhost:8080/",
     "height": 797
    },
    "id": "A1KA0cp8GsD7",
    "outputId": "eb23992e-4df2-428e-b652-7010762b8bf5"
   },
   "outputs": [],
   "source": [
    "# Visualize clusters using 3D-Scatterplot\n",
    "fig = px.scatter_3d(pca_df, x = 'pca1', y = 'pca2', z = 'pca3', \n",
    "              color = 'cluster', symbol = 'cluster', size_max = 18, opacity = 0.7)\n",
    "fig.update_layout(margin = dict(l = 0, r = 0, b = 0, t = 0))"
   ]
  },
  {
   "cell_type": "markdown",
   "metadata": {
    "id": "CuDo13PSHkDH"
   },
   "source": [
    "# #8: APPLY AUTOENCODERS (PERFORM DIMENSIONALITY REDUCTION USING AUTOENCODERS)"
   ]
  },
  {
   "cell_type": "code",
   "execution_count": null,
   "metadata": {
    "colab": {
     "base_uri": "https://localhost:8080/",
     "height": 35
    },
    "id": "0XxHCSjkKtT7",
    "outputId": "cc6b8106-2619-4604-e2b0-abf62f5c0a3e"
   },
   "outputs": [],
   "source": [
    "sales_df.shape"
   ]
  },
  {
   "cell_type": "code",
   "execution_count": null,
   "metadata": {
    "colab": {
     "base_uri": "https://localhost:8080/",
     "height": 35
    },
    "id": "YL3a8lawKtmr",
    "outputId": "7c8839dd-b460-43d8-c43a-141642826d55"
   },
   "outputs": [],
   "source": [
    "# from keras.optimizers import SGD\n",
    "\n",
    "# Glorot Uniform initializer: https://keras.rstudio.com/reference/initializer_glorot_uniform.html\n",
    "\n",
    "input_df = Input(shape = (37,))\n",
    "x = Dense(50, activation = 'relu')(input_df)\n",
    "x = Dense(500, activation = 'relu', kernel_initializer = 'glorot_uniform')(x)\n",
    "x = Dense(500, activation = 'relu', kernel_initializer = 'glorot_uniform')(x)\n",
    "x = Dense(2000, activation = 'relu', kernel_initializer = 'glorot_uniform')(x)\n",
    "encoded = Dense(8, activation = 'relu', kernel_initializer = 'glorot_uniform')(x)\n",
    "x = Dense(2000, activation = 'relu', kernel_initializer = 'glorot_uniform')(encoded)\n",
    "x = Dense(500, activation = 'relu', kernel_initializer = 'glorot_uniform')(x)\n",
    "decoded = Dense(37, kernel_initializer = 'glorot_uniform')(x)\n",
    "\n",
    "# autoencoder\n",
    "autoencoder = Model(input_df, decoded)\n",
    "\n",
    "# encoder - used for dimensionality reduction\n",
    "encoder = Model(input_df, encoded)\n",
    "\n",
    "autoencoder.compile(optimizer = 'adam', loss='mean_squared_error')"
   ]
  },
  {
   "cell_type": "code",
   "execution_count": null,
   "metadata": {
    "colab": {
     "base_uri": "https://localhost:8080/",
     "height": 1000
    },
    "id": "h0xVTDWWKtrQ",
    "outputId": "41b7e847-91f0-4a52-dc91-a0e13b023770"
   },
   "outputs": [],
   "source": [
    "autoencoder.fit(sales_df, sales_df, batch_size = 128, epochs = 500, verbose = 3)"
   ]
  },
  {
   "cell_type": "code",
   "execution_count": null,
   "metadata": {
    "id": "G7Np56yRKtuD"
   },
   "outputs": [],
   "source": [
    "autoencoder.save_weights('autoencoder_1.h5')"
   ]
  },
  {
   "cell_type": "code",
   "execution_count": null,
   "metadata": {
    "id": "BYXIb_XPKtpf"
   },
   "outputs": [],
   "source": [
    "pred = encoder.predict(sales_df_scaled)"
   ]
  },
  {
   "cell_type": "code",
   "execution_count": null,
   "metadata": {
    "colab": {
     "base_uri": "https://localhost:8080/",
     "height": 295
    },
    "id": "SYcSZAkbK1iK",
    "outputId": "a6b0e9ab-5389-4b45-d3fe-4fd943bb8c79"
   },
   "outputs": [],
   "source": [
    "scores = []\n",
    "\n",
    "range_values = range(1, 15)\n",
    "\n",
    "for i in range_values:\n",
    "  kmeans = KMeans(n_clusters = i)\n",
    "  kmeans.fit(pred)\n",
    "  scores.append(kmeans.inertia_)\n",
    "\n",
    "plt.plot(scores, 'bx-')\n",
    "plt.title('Finding right number of clusters')\n",
    "plt.xlabel('Clusters')\n",
    "plt.ylabel('scores') \n",
    "plt.show()"
   ]
  },
  {
   "cell_type": "code",
   "execution_count": null,
   "metadata": {
    "id": "D_ORufjBK1oc"
   },
   "outputs": [],
   "source": [
    "kmeans = KMeans(3)\n",
    "kmeans.fit(pred)\n",
    "labels = kmeans.labels_\n",
    "y_kmeans = kmeans.fit_predict(sales_df_scaled)"
   ]
  },
  {
   "cell_type": "code",
   "execution_count": null,
   "metadata": {
    "colab": {
     "base_uri": "https://localhost:8080/",
     "height": 257
    },
    "id": "d40gPFuMK1st",
    "outputId": "d36c3870-2672-46b6-f21e-b06eda1b2680"
   },
   "outputs": [],
   "source": [
    "df_cluster_dr = pd.concat([sales_df, pd.DataFrame({'cluster':labels})], axis = 1)\n",
    "df_cluster_dr.head()"
   ]
  },
  {
   "cell_type": "code",
   "execution_count": null,
   "metadata": {
    "colab": {
     "base_uri": "https://localhost:8080/",
     "height": 195
    },
    "id": "n_5OJ5sKnvkI",
    "outputId": "742aa883-27de-41d6-a4c1-ce1f41964776"
   },
   "outputs": [],
   "source": [
    "cluster_centers = pd.DataFrame(data = kmeans.cluster_centers_, columns = [sales_df.columns])\n",
    "cluster_centers \n"
   ]
  },
  {
   "cell_type": "code",
   "execution_count": null,
   "metadata": {
    "colab": {
     "base_uri": "https://localhost:8080/",
     "height": 247
    },
    "id": "kiTVcQ_QnxGq",
    "outputId": "339784c5-8c63-40ca-ab86-306a5fdff337"
   },
   "outputs": [],
   "source": [
    "cluster_centers = scaler.inverse_transform(cluster_centers)\n",
    "cluster_centers = pd.DataFrame(data = cluster_centers, columns = [sales_df.columns])\n",
    "cluster_centers\n"
   ]
  },
  {
   "cell_type": "code",
   "execution_count": null,
   "metadata": {
    "colab": {
     "base_uri": "https://localhost:8080/",
     "height": 1000
    },
    "id": "PDlqtbW2K1rG",
    "outputId": "096447c4-47bf-40f8-ba40-180b6bba074c"
   },
   "outputs": [],
   "source": [
    "# plot histogram for each feature based on cluster \n",
    "for i in sales_df.columns[:8]:\n",
    "  plt.figure(figsize = (30, 6))\n",
    "  for j in range(3):\n",
    "    plt.subplot(1, 3, j+1)\n",
    "    cluster = df_cluster_dr[df_cluster_dr['cluster'] == j]\n",
    "    cluster[i].hist()\n",
    "    plt.title('{}    \\nCluster - {} '.format(i,j))\n",
    "  \n",
    "  plt.show()\n"
   ]
  },
  {
   "cell_type": "code",
   "execution_count": null,
   "metadata": {
    "id": "P9fQ5eeWK1mj"
   },
   "outputs": [],
   "source": [
    "# Cluster 0 - This group represents customers who buy items in high quantity(47), they usually buy items with high prices(99). They bring-in more sales than other clusters. They are mostly active through out the year. They usually buy products corresponding to product code 10-90. They buy products with high mrsp(158).\n",
    "# Cluster 1 - This group represents customers who buy items in average quantity(37) and they buy tend to buy high price items(95). They bring-in average sales(4398) and they are active all around the year.They are the highest buyers of products corresponding to product code 0-10 and 90-100.Also they prefer to buy products with high MSRP(115) .\n",
    "# Cluster 2 - This group represents customers who buy items in small quantity(30), they tend to buy low price items(69). They correspond to the lowest total sale(2061) and they are active all around the year.They are the highest buyers of products corresponding to product code 0-20 and 100-110  they then to buy products with low MSRP(77)."
   ]
  },
  {
   "cell_type": "code",
   "execution_count": null,
   "metadata": {
    "colab": {
     "base_uri": "https://localhost:8080/",
     "height": 202
    },
    "id": "jlKdxVKKK1k6",
    "outputId": "c75607be-68e7-4f47-bc31-589b7ab1066a"
   },
   "outputs": [],
   "source": [
    "# Reduce the original data to 3 dimension using PCA for visualize the clusters\n",
    "pca = PCA(n_components = 3)\n",
    "prin_comp = pca.fit_transform(sales_df_scaled)\n",
    "pca_df = pd.DataFrame(data = prin_comp, columns = ['pca1', 'pca2', 'pca3'])\n",
    "pca_df.head()"
   ]
  },
  {
   "cell_type": "code",
   "execution_count": null,
   "metadata": {
    "colab": {
     "base_uri": "https://localhost:8080/",
     "height": 202
    },
    "id": "R1DlkkjSLLNj",
    "outputId": "2ceeb202-6733-4537-9121-c2f7bc3ee832"
   },
   "outputs": [],
   "source": [
    "pca_df = pd.concat([pca_df, pd.DataFrame({'cluster':labels})], axis = 1)\n",
    "pca_df.head()"
   ]
  },
  {
   "cell_type": "code",
   "execution_count": null,
   "metadata": {
    "colab": {
     "base_uri": "https://localhost:8080/",
     "height": 542
    },
    "id": "1lmIjnUjLPQL",
    "outputId": "64dd9317-eaa5-467a-f373-0e46a7becd50"
   },
   "outputs": [],
   "source": [
    "# Visualize clusters using 3D-Scatterplot\n",
    "fig = px.scatter_3d(pca_df, x = 'pca1', y = 'pca2', z = 'pca3',\n",
    "              color='cluster', symbol = 'cluster', size_max = 10, opacity = 0.7)\n",
    "fig.update_layout(margin = dict(l = 0, r = 0, b = 0, t = 0))"
   ]
  }
 ],
 "metadata": {
  "colab": {
   "provenance": []
  },
  "kernelspec": {
   "display_name": "Python 3",
   "language": "python",
   "name": "python3"
  },
  "language_info": {
   "codemirror_mode": {
    "name": "ipython",
    "version": 3
   },
   "file_extension": ".py",
   "mimetype": "text/x-python",
   "name": "python",
   "nbconvert_exporter": "python",
   "pygments_lexer": "ipython3",
   "version": "3.8.8"
  }
 },
 "nbformat": 4,
 "nbformat_minor": 1
}
